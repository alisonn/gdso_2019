{
 "cells": [
  {
   "cell_type": "code",
   "execution_count": 7,
   "metadata": {},
   "outputs": [
    {
     "data": {
      "text/html": [
       "<div>\n",
       "<style scoped>\n",
       "    .dataframe tbody tr th:only-of-type {\n",
       "        vertical-align: middle;\n",
       "    }\n",
       "\n",
       "    .dataframe tbody tr th {\n",
       "        vertical-align: top;\n",
       "    }\n",
       "\n",
       "    .dataframe thead th {\n",
       "        text-align: right;\n",
       "    }\n",
       "</style>\n",
       "<table border=\"1\" class=\"dataframe\">\n",
       "  <thead>\n",
       "    <tr style=\"text-align: right;\">\n",
       "      <th></th>\n",
       "      <th>matches_email_id</th>\n",
       "      <th>matches_question_id</th>\n",
       "    </tr>\n",
       "  </thead>\n",
       "  <tbody>\n",
       "    <tr>\n",
       "      <th>0</th>\n",
       "      <td>1721939</td>\n",
       "      <td>332a511f1569444485cf7a7a556a5e54</td>\n",
       "    </tr>\n",
       "    <tr>\n",
       "      <th>1</th>\n",
       "      <td>1665388</td>\n",
       "      <td>332a511f1569444485cf7a7a556a5e54</td>\n",
       "    </tr>\n",
       "    <tr>\n",
       "      <th>2</th>\n",
       "      <td>1636634</td>\n",
       "      <td>332a511f1569444485cf7a7a556a5e54</td>\n",
       "    </tr>\n",
       "    <tr>\n",
       "      <th>3</th>\n",
       "      <td>1635498</td>\n",
       "      <td>332a511f1569444485cf7a7a556a5e54</td>\n",
       "    </tr>\n",
       "    <tr>\n",
       "      <th>4</th>\n",
       "      <td>1620298</td>\n",
       "      <td>332a511f1569444485cf7a7a556a5e54</td>\n",
       "    </tr>\n",
       "  </tbody>\n",
       "</table>\n",
       "</div>"
      ],
      "text/plain": [
       "   matches_email_id               matches_question_id\n",
       "0           1721939  332a511f1569444485cf7a7a556a5e54\n",
       "1           1665388  332a511f1569444485cf7a7a556a5e54\n",
       "2           1636634  332a511f1569444485cf7a7a556a5e54\n",
       "3           1635498  332a511f1569444485cf7a7a556a5e54\n",
       "4           1620298  332a511f1569444485cf7a7a556a5e54"
      ]
     },
     "execution_count": 7,
     "metadata": {},
     "output_type": "execute_result"
    }
   ],
   "source": [
    "import nltk\n",
    "import pandas as pd\n",
    "#df = pd.read_csv('/Users/alisonn/Downloads/data-science-for-good-careervillage/answers.csv')\n",
    "df = pd.read_csv('/Users/alisonn/Downloads/data-science-for-good-careervillage/matches.csv')\n",
    "df.head()"
   ]
  },
  {
   "cell_type": "code",
   "execution_count": 10,
   "metadata": {},
   "outputs": [],
   "source": [
    "#email = pd.read_csv('/Users/alisonn/Downloads/data-science-for-good-careervillage/emails.csv')\n",
    "#email.head()"
   ]
  },
  {
   "cell_type": "code",
   "execution_count": 15,
   "metadata": {},
   "outputs": [
    {
     "data": {
      "text/html": [
       "<div>\n",
       "<style scoped>\n",
       "    .dataframe tbody tr th:only-of-type {\n",
       "        vertical-align: middle;\n",
       "    }\n",
       "\n",
       "    .dataframe tbody tr th {\n",
       "        vertical-align: top;\n",
       "    }\n",
       "\n",
       "    .dataframe thead th {\n",
       "        text-align: right;\n",
       "    }\n",
       "</style>\n",
       "<table border=\"1\" class=\"dataframe\">\n",
       "  <thead>\n",
       "    <tr style=\"text-align: right;\">\n",
       "      <th></th>\n",
       "      <th>questions_id</th>\n",
       "      <th>questions_author_id</th>\n",
       "      <th>questions_date_added</th>\n",
       "      <th>questions_title</th>\n",
       "      <th>questions_body</th>\n",
       "    </tr>\n",
       "  </thead>\n",
       "  <tbody>\n",
       "    <tr>\n",
       "      <th>count</th>\n",
       "      <td>23931</td>\n",
       "      <td>23931</td>\n",
       "      <td>23931</td>\n",
       "      <td>23931</td>\n",
       "      <td>23931</td>\n",
       "    </tr>\n",
       "    <tr>\n",
       "      <th>unique</th>\n",
       "      <td>23931</td>\n",
       "      <td>12329</td>\n",
       "      <td>23869</td>\n",
       "      <td>23739</td>\n",
       "      <td>23681</td>\n",
       "    </tr>\n",
       "    <tr>\n",
       "      <th>top</th>\n",
       "      <td>541cb67dd6004f6bb497fd3e628c3a51</td>\n",
       "      <td>2fe767de78fa4dfd83f0021cf7712064</td>\n",
       "      <td>2016-10-22 20:21:17 UTC+0000</td>\n",
       "      <td>How do I become an IAS officer?</td>\n",
       "      <td>Accounting student at Towson university  #acco...</td>\n",
       "    </tr>\n",
       "    <tr>\n",
       "      <th>freq</th>\n",
       "      <td>1</td>\n",
       "      <td>93</td>\n",
       "      <td>2</td>\n",
       "      <td>6</td>\n",
       "      <td>16</td>\n",
       "    </tr>\n",
       "  </tbody>\n",
       "</table>\n",
       "</div>"
      ],
      "text/plain": [
       "                            questions_id               questions_author_id  \\\n",
       "count                              23931                             23931   \n",
       "unique                             23931                             12329   \n",
       "top     541cb67dd6004f6bb497fd3e628c3a51  2fe767de78fa4dfd83f0021cf7712064   \n",
       "freq                                   1                                93   \n",
       "\n",
       "                questions_date_added                  questions_title  \\\n",
       "count                          23931                            23931   \n",
       "unique                         23869                            23739   \n",
       "top     2016-10-22 20:21:17 UTC+0000  How do I become an IAS officer?   \n",
       "freq                               2                                6   \n",
       "\n",
       "                                           questions_body  \n",
       "count                                               23931  \n",
       "unique                                              23681  \n",
       "top     Accounting student at Towson university  #acco...  \n",
       "freq                                                   16  "
      ]
     },
     "execution_count": 15,
     "metadata": {},
     "output_type": "execute_result"
    }
   ],
   "source": [
    "questions = pd.read_csv('/Users/alisonn/Downloads/data-science-for-good-careervillage/questions.csv')\n",
    "questions.describe()"
   ]
  },
  {
   "cell_type": "code",
   "execution_count": null,
   "metadata": {},
   "outputs": [],
   "source": []
  }
 ],
 "metadata": {
  "kernelspec": {
   "display_name": "Python 3",
   "language": "python",
   "name": "python3"
  },
  "language_info": {
   "codemirror_mode": {
    "name": "ipython",
    "version": 3
   },
   "file_extension": ".py",
   "mimetype": "text/x-python",
   "name": "python",
   "nbconvert_exporter": "python",
   "pygments_lexer": "ipython3",
   "version": "3.7.3"
  }
 },
 "nbformat": 4,
 "nbformat_minor": 2
}

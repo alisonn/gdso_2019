{
 "cells": [
  {
   "cell_type": "markdown",
   "metadata": {},
   "source": [
    "Using NLP on answers and questions and professionals with NLTK package"
   ]
  },
  {
   "cell_type": "code",
   "execution_count": 23,
   "metadata": {},
   "outputs": [
    {
     "data": {
      "text/html": [
       "<div>\n",
       "<style scoped>\n",
       "    .dataframe tbody tr th:only-of-type {\n",
       "        vertical-align: middle;\n",
       "    }\n",
       "\n",
       "    .dataframe tbody tr th {\n",
       "        vertical-align: top;\n",
       "    }\n",
       "\n",
       "    .dataframe thead th {\n",
       "        text-align: right;\n",
       "    }\n",
       "</style>\n",
       "<table border=\"1\" class=\"dataframe\">\n",
       "  <thead>\n",
       "    <tr style=\"text-align: right;\">\n",
       "      <th></th>\n",
       "      <th>Unnamed: 0</th>\n",
       "      <th>professionals_id</th>\n",
       "      <th>professionals_location</th>\n",
       "      <th>professionals_industry</th>\n",
       "      <th>professionals_headline</th>\n",
       "      <th>answers_id</th>\n",
       "      <th>answers_body</th>\n",
       "      <th>students_id</th>\n",
       "      <th>students_location</th>\n",
       "      <th>questions_id</th>\n",
       "      <th>questions_title</th>\n",
       "      <th>questions_body</th>\n",
       "    </tr>\n",
       "  </thead>\n",
       "  <tbody>\n",
       "    <tr>\n",
       "      <th>0</th>\n",
       "      <td>0</td>\n",
       "      <td>0c673e046d824ec0ad0ebe012a0673e4</td>\n",
       "      <td>New York, New York</td>\n",
       "      <td>NaN</td>\n",
       "      <td>NaN</td>\n",
       "      <td>f18d7fca363d4b21a81e6683c5a86b96</td>\n",
       "      <td>&lt;html&gt;&lt;head&gt;&lt;/head&gt;&lt;body&gt;&lt;p&gt;Hi Deja,&lt;/p&gt;\\n&lt;p&gt;K...</td>\n",
       "      <td>16908136951a48ed942738822cedd5c2</td>\n",
       "      <td>Palm Harbor, Florida</td>\n",
       "      <td>e214acfbe6644d65b889a3268828db9d</td>\n",
       "      <td>what does it take to be an anesthesiologist?</td>\n",
       "      <td>I am a sophomore who is interested in learning...</td>\n",
       "    </tr>\n",
       "    <tr>\n",
       "      <th>1</th>\n",
       "      <td>1</td>\n",
       "      <td>0c673e046d824ec0ad0ebe012a0673e4</td>\n",
       "      <td>New York, New York</td>\n",
       "      <td>NaN</td>\n",
       "      <td>NaN</td>\n",
       "      <td>5d670d5f8700402ab56bae609b06d02d</td>\n",
       "      <td>&lt;html&gt;&lt;head&gt;&lt;/head&gt;&lt;body&gt;&lt;p&gt;It looks like this...</td>\n",
       "      <td>16908136951a48ed942738822cedd5c2</td>\n",
       "      <td>Palm Harbor, Florida</td>\n",
       "      <td>9d211b99e17c46fbbaca03dc6b43f1c4</td>\n",
       "      <td>what are some of the ups and downs of being a ...</td>\n",
       "      <td>I am a sophomore who is interested in learning...</td>\n",
       "    </tr>\n",
       "    <tr>\n",
       "      <th>2</th>\n",
       "      <td>2</td>\n",
       "      <td>13b55ed4834e4814bb33a4c87001063d</td>\n",
       "      <td>Memphis, Tennessee</td>\n",
       "      <td>Hospital &amp; Health Care</td>\n",
       "      <td>NICU Nurse Manager at Baptist Memorial Hospita...</td>\n",
       "      <td>1265c6484d5c476ca60c1bed13ea5cd6</td>\n",
       "      <td>&lt;p&gt;Being a neonatal nurse is very rewarding an...</td>\n",
       "      <td>16908136951a48ed942738822cedd5c2</td>\n",
       "      <td>Palm Harbor, Florida</td>\n",
       "      <td>9d211b99e17c46fbbaca03dc6b43f1c4</td>\n",
       "      <td>what are some of the ups and downs of being a ...</td>\n",
       "      <td>I am a sophomore who is interested in learning...</td>\n",
       "    </tr>\n",
       "    <tr>\n",
       "      <th>3</th>\n",
       "      <td>3</td>\n",
       "      <td>0c673e046d824ec0ad0ebe012a0673e4</td>\n",
       "      <td>New York, New York</td>\n",
       "      <td>NaN</td>\n",
       "      <td>NaN</td>\n",
       "      <td>6d823a750e294c75b10fafbbbaf19855</td>\n",
       "      <td>&lt;p&gt;&lt;em&gt;[Posted on behalf of a CareerVillage Pr...</td>\n",
       "      <td>177f482adc1a449284471f7c556ee8f0</td>\n",
       "      <td>United States</td>\n",
       "      <td>e978b437413048c183e3cb556f90a878</td>\n",
       "      <td>What do I have to do to become an investor?</td>\n",
       "      <td>&lt;p&gt;I would like to invest in other companies w...</td>\n",
       "    </tr>\n",
       "    <tr>\n",
       "      <th>4</th>\n",
       "      <td>4</td>\n",
       "      <td>a8d48ad29465479bbeb7f19ee3b77d1a</td>\n",
       "      <td>Bengaluru, Karnataka, India</td>\n",
       "      <td>Information Technology and Services</td>\n",
       "      <td>Escalation Specialist at Dell</td>\n",
       "      <td>63be2c32d84c4e74bf34c6e5cce16e47</td>\n",
       "      <td>&lt;p&gt;Understand the Market\\nAnalyze Your Finance...</td>\n",
       "      <td>177f482adc1a449284471f7c556ee8f0</td>\n",
       "      <td>United States</td>\n",
       "      <td>e978b437413048c183e3cb556f90a878</td>\n",
       "      <td>What do I have to do to become an investor?</td>\n",
       "      <td>&lt;p&gt;I would like to invest in other companies w...</td>\n",
       "    </tr>\n",
       "  </tbody>\n",
       "</table>\n",
       "</div>"
      ],
      "text/plain": [
       "   Unnamed: 0                  professionals_id       professionals_location  \\\n",
       "0           0  0c673e046d824ec0ad0ebe012a0673e4           New York, New York   \n",
       "1           1  0c673e046d824ec0ad0ebe012a0673e4           New York, New York   \n",
       "2           2  13b55ed4834e4814bb33a4c87001063d           Memphis, Tennessee   \n",
       "3           3  0c673e046d824ec0ad0ebe012a0673e4           New York, New York   \n",
       "4           4  a8d48ad29465479bbeb7f19ee3b77d1a  Bengaluru, Karnataka, India   \n",
       "\n",
       "                professionals_industry  \\\n",
       "0                                  NaN   \n",
       "1                                  NaN   \n",
       "2               Hospital & Health Care   \n",
       "3                                  NaN   \n",
       "4  Information Technology and Services   \n",
       "\n",
       "                              professionals_headline  \\\n",
       "0                                                NaN   \n",
       "1                                                NaN   \n",
       "2  NICU Nurse Manager at Baptist Memorial Hospita...   \n",
       "3                                                NaN   \n",
       "4                      Escalation Specialist at Dell   \n",
       "\n",
       "                         answers_id  \\\n",
       "0  f18d7fca363d4b21a81e6683c5a86b96   \n",
       "1  5d670d5f8700402ab56bae609b06d02d   \n",
       "2  1265c6484d5c476ca60c1bed13ea5cd6   \n",
       "3  6d823a750e294c75b10fafbbbaf19855   \n",
       "4  63be2c32d84c4e74bf34c6e5cce16e47   \n",
       "\n",
       "                                        answers_body  \\\n",
       "0  <html><head></head><body><p>Hi Deja,</p>\\n<p>K...   \n",
       "1  <html><head></head><body><p>It looks like this...   \n",
       "2  <p>Being a neonatal nurse is very rewarding an...   \n",
       "3  <p><em>[Posted on behalf of a CareerVillage Pr...   \n",
       "4  <p>Understand the Market\\nAnalyze Your Finance...   \n",
       "\n",
       "                        students_id     students_location  \\\n",
       "0  16908136951a48ed942738822cedd5c2  Palm Harbor, Florida   \n",
       "1  16908136951a48ed942738822cedd5c2  Palm Harbor, Florida   \n",
       "2  16908136951a48ed942738822cedd5c2  Palm Harbor, Florida   \n",
       "3  177f482adc1a449284471f7c556ee8f0         United States   \n",
       "4  177f482adc1a449284471f7c556ee8f0         United States   \n",
       "\n",
       "                       questions_id  \\\n",
       "0  e214acfbe6644d65b889a3268828db9d   \n",
       "1  9d211b99e17c46fbbaca03dc6b43f1c4   \n",
       "2  9d211b99e17c46fbbaca03dc6b43f1c4   \n",
       "3  e978b437413048c183e3cb556f90a878   \n",
       "4  e978b437413048c183e3cb556f90a878   \n",
       "\n",
       "                                     questions_title  \\\n",
       "0       what does it take to be an anesthesiologist?   \n",
       "1  what are some of the ups and downs of being a ...   \n",
       "2  what are some of the ups and downs of being a ...   \n",
       "3        What do I have to do to become an investor?   \n",
       "4        What do I have to do to become an investor?   \n",
       "\n",
       "                                      questions_body  \n",
       "0  I am a sophomore who is interested in learning...  \n",
       "1  I am a sophomore who is interested in learning...  \n",
       "2  I am a sophomore who is interested in learning...  \n",
       "3  <p>I would like to invest in other companies w...  \n",
       "4  <p>I would like to invest in other companies w...  "
      ]
     },
     "execution_count": 23,
     "metadata": {},
     "output_type": "execute_result"
    }
   ],
   "source": [
    "import nltk\n",
    "from nltk import word_tokenize\n",
    "import pandas as pd\n",
    "\n",
    "df = pd.read_csv('cv_final.csv')\n",
    "df.head()\n"
   ]
  },
  {
   "cell_type": "code",
   "execution_count": 69,
   "metadata": {},
   "outputs": [
    {
     "name": "stdout",
     "output_type": "stream",
     "text": [
      "<class 'str'>\n",
      "<p>Understand the Market\n",
      "Analyze Your Finances\n",
      "Assemble a Team</p>\n"
     ]
    }
   ],
   "source": [
    "test = df.iloc[4]['answers_body'] ## use this method to get element as string\n",
    "print(type(test))\n",
    "print(test)"
   ]
  },
  {
   "cell_type": "code",
   "execution_count": 64,
   "metadata": {},
   "outputs": [
    {
     "name": "stderr",
     "output_type": "stream",
     "text": [
      "[nltk_data] Error loading investor: Package 'investor' not found in\n",
      "[nltk_data]     index\n"
     ]
    },
    {
     "data": {
      "text/plain": [
       "False"
      ]
     },
     "execution_count": 64,
     "metadata": {},
     "output_type": "execute_result"
    }
   ],
   "source": [
    "nltk.download('wordnet') ## only need to do this once"
   ]
  },
  {
   "cell_type": "code",
   "execution_count": 73,
   "metadata": {},
   "outputs": [
    {
     "name": "stdout",
     "output_type": "stream",
     "text": [
      "[Synset('argentine.n.01'), Synset('argentine.a.01')]\n"
     ]
    }
   ],
   "source": [
    "syns = wordnet.synsets('argentine')\n",
    "print(syns)"
   ]
  },
  {
   "cell_type": "code",
   "execution_count": 74,
   "metadata": {},
   "outputs": [
    {
     "name": "stdout",
     "output_type": "stream",
     "text": [
      "{'Argentine', 'Argentinian', 'argentine'}\n",
      "set()\n"
     ]
    }
   ],
   "source": [
    "## function from guru99.com/wordnet-nltk.html \n",
    "\n",
    "from nltk.corpus import wordnet\n",
    "synonyms = []\n",
    "antonyms = []\n",
    "\n",
    "for syn in wordnet.synsets(\"argentine\"):\n",
    "    for l in syn.lemmas():\n",
    "        synonyms.append(l.name())\n",
    "        if l.antonyms():\n",
    "            antonyms.append(l.antonyms()[0].name())\n",
    "\n",
    "print(set(synonyms))\n",
    "print(set(antonyms))"
   ]
  },
  {
   "cell_type": "code",
   "execution_count": null,
   "metadata": {},
   "outputs": [],
   "source": []
  }
 ],
 "metadata": {
  "kernelspec": {
   "display_name": "Python 3",
   "language": "python",
   "name": "python3"
  },
  "language_info": {
   "codemirror_mode": {
    "name": "ipython",
    "version": 3
   },
   "file_extension": ".py",
   "mimetype": "text/x-python",
   "name": "python",
   "nbconvert_exporter": "python",
   "pygments_lexer": "ipython3",
   "version": "3.7.3"
  }
 },
 "nbformat": 4,
 "nbformat_minor": 2
}

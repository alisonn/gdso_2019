{
 "cells": [
  {
   "cell_type": "code",
   "execution_count": 1,
   "metadata": {},
   "outputs": [],
   "source": [
    "import pandas as pd\n",
    "import numpy as np\n",
    "import seaborn as sns\n",
    "import matplotlib as plt\n",
    "import re\n",
    "\n",
    "import nltk\n",
    "from nltk.corpus import stopwords \n",
    "from html.parser import HTMLParser"
   ]
  },
  {
   "cell_type": "code",
   "execution_count": 2,
   "metadata": {},
   "outputs": [],
   "source": [
    "## data with the real text meat\n",
    "prof = pd.read_csv(\"../professionals.csv\")\n",
    "answ = pd.read_csv(\"../answers.csv\")\n",
    "stud = pd.read_csv(\"../students.csv\")\n",
    "ques = pd.read_csv(\"../questions.csv\")"
   ]
  },
  {
   "cell_type": "code",
   "execution_count": 11,
   "metadata": {},
   "outputs": [
    {
     "data": {
      "text/html": [
       "<div>\n",
       "<style scoped>\n",
       "    .dataframe tbody tr th:only-of-type {\n",
       "        vertical-align: middle;\n",
       "    }\n",
       "\n",
       "    .dataframe tbody tr th {\n",
       "        vertical-align: top;\n",
       "    }\n",
       "\n",
       "    .dataframe thead th {\n",
       "        text-align: right;\n",
       "    }\n",
       "</style>\n",
       "<table border=\"1\" class=\"dataframe\">\n",
       "  <thead>\n",
       "    <tr style=\"text-align: right;\">\n",
       "      <th></th>\n",
       "      <th>professionals_id</th>\n",
       "      <th>professionals_location</th>\n",
       "      <th>professionals_industry</th>\n",
       "      <th>professionals_headline</th>\n",
       "      <th>professionals_date_joined</th>\n",
       "    </tr>\n",
       "  </thead>\n",
       "  <tbody>\n",
       "    <tr>\n",
       "      <th>28118</th>\n",
       "      <td>de2415064b9b445c8717425ed70fd99a</td>\n",
       "      <td>El Segundo, California</td>\n",
       "      <td>Entertainment</td>\n",
       "      <td>Software Management and Technical Project Mana...</td>\n",
       "      <td>2019-01-31 20:06:51 UTC+0000</td>\n",
       "    </tr>\n",
       "    <tr>\n",
       "      <th>27060</th>\n",
       "      <td>435f53c586fd42e4ae95fb202bfa99bd</td>\n",
       "      <td>Boston, Massachusetts</td>\n",
       "      <td>www.linkedin.com/in/jyotsna-penumaka</td>\n",
       "      <td>Computer Engineering</td>\n",
       "      <td>2019-01-09 14:42:28 UTC+0000</td>\n",
       "    </tr>\n",
       "  </tbody>\n",
       "</table>\n",
       "</div>"
      ],
      "text/plain": [
       "                       professionals_id  professionals_location  \\\n",
       "28118  de2415064b9b445c8717425ed70fd99a  El Segundo, California   \n",
       "27060  435f53c586fd42e4ae95fb202bfa99bd   Boston, Massachusetts   \n",
       "\n",
       "                     professionals_industry  \\\n",
       "28118                         Entertainment   \n",
       "27060  www.linkedin.com/in/jyotsna-penumaka   \n",
       "\n",
       "                                  professionals_headline  \\\n",
       "28118  Software Management and Technical Project Mana...   \n",
       "27060                              Computer Engineering    \n",
       "\n",
       "          professionals_date_joined  \n",
       "28118  2019-01-31 20:06:51 UTC+0000  \n",
       "27060  2019-01-09 14:42:28 UTC+0000  "
      ]
     },
     "execution_count": 11,
     "metadata": {},
     "output_type": "execute_result"
    }
   ],
   "source": [
    "# Professional's headlines - clean them!!!\n",
    "def clean_names(headline): \n",
    "    if type(headline) == str:\n",
    "        return re.sub(r'at\\s.*$', '', headline)\n",
    "    return headline\n",
    "\n",
    "# Updated the city columns \n",
    "prof.professionals_headline = prof.professionals_headline.apply(clean_names)\n",
    "prof.sample(2)"
   ]
  },
  {
   "cell_type": "code",
   "execution_count": 16,
   "metadata": {},
   "outputs": [],
   "source": [
    "## Function to get rid of HTML tags from text\n",
    "class MLStripper(HTMLParser):\n",
    "    def __init__(self):\n",
    "        super().__init__()\n",
    "        self.reset()\n",
    "        self.fed = []\n",
    "    def handle_data(self, d):\n",
    "        self.fed.append(str(d))\n",
    "    def get_data(self):\n",
    "        return ''.join(self.fed)\n",
    "    \n",
    "def strip_tags(html):\n",
    "    s = MLStripper()\n",
    "    s.feed(html)\n",
    "    return s.get_data()"
   ]
  },
  {
   "cell_type": "code",
   "execution_count": 43,
   "metadata": {},
   "outputs": [
    {
     "name": "stdout",
     "output_type": "stream",
     "text": [
      "                           questions_id               questions_author_id  \\\n",
      "22387  66789229b04948a89fe51e76886eecb3  c87a9fdddee24ee0b13a345faa70c5fb   \n",
      "10396  14b0499727144cba8238a6a1f1859e66  87be1f17a23a41faa2342b85e52e1810   \n",
      "13082  4273b28b1094476299efe0408619164c  00999e4be7594f09b697c2e5244a6e6b   \n",
      "\n",
      "               questions_date_added  \\\n",
      "22387  2016-11-01 04:31:06 UTC+0000   \n",
      "10396  2015-02-07 16:02:40 UTC+0000   \n",
      "13082  2016-05-14 19:12:26 UTC+0000   \n",
      "\n",
      "                                         questions_title  \\\n",
      "22387  How do students better qualify for scholarship...   \n",
      "10396  What are some better alternatives to ITT Tech'...   \n",
      "13082    Can I enter a UC university with a GPA of 4,00?   \n",
      "\n",
      "                                          questions_body  \n",
      "22387  i tips chances scholarships towards future col...  \n",
      "10396  weeks lot time interest options ve time school...  \n",
      "13082                                gpa doctor finance   \n"
     ]
    }
   ],
   "source": [
    "# Clean up these bodies of text\n",
    "\n",
    "# Tag parts of speech and remove stop words\n",
    "# More interested in knowing which general area these questions are asking about so let's grab nouns\n",
    "stop_words = set(stopwords.words(\"english\"))\n",
    "def filterText(text):\n",
    "    # initialize stop words bank\n",
    "    stop_words = set(stopwords.words(\"english\"))\n",
    "    \n",
    "    # strip html! \n",
    "    text = strip_tags(str(text).lower())\n",
    "    text = (nltk.word_tokenize(text))\n",
    "    #print('Finished tokenizing body text')\n",
    "    \n",
    "    text = nltk.pos_tag(text)\n",
    "    #print('Finished taging parts of speech')\n",
    "    \n",
    "    res = \"\"\n",
    "    for i in text: \n",
    "        if (i[0] not in stop_words) and (i[1] == \"NN\" or i[1] == \"NNP\" or i[1] == \"NNS\" or i[1] == \"NNPS\"):\n",
    "            res += i[0] + \" \"\n",
    "    return res\n",
    "print(ques.sample(3))\n",
    "ques.questions_body = ques.questions_body.apply(filterText)\n"
   ]
  },
  {
   "cell_type": "code",
   "execution_count": 44,
   "metadata": {},
   "outputs": [
    {
     "name": "stdout",
     "output_type": "stream",
     "text": [
      "                           questions_id               questions_author_id  \\\n",
      "16565  32d9b287214e475a86804e538e73e5c9  b5d8899abda04e6fb9ffa203aac6c582   \n",
      "16127  4f91dc3a872a44cd94ec24cba1113049  5e3365c0fb144c5192ad793626f2f3e4   \n",
      "8794   e476c2fd66c647b8bf771da45d73b6f1  94cf86c4b2ed40d6ad21cfd3f8b01ece   \n",
      "\n",
      "               questions_date_added  \\\n",
      "16565  2016-05-04 11:55:03 UTC+0000   \n",
      "16127  2013-03-22 14:36:25 UTC+0000   \n",
      "8794   2017-05-19 18:17:32 UTC+0000   \n",
      "\n",
      "                                         questions_title  \\\n",
      "16565   What programming languages should I learn first?   \n",
      "16127  I want to become a uscis officer , what exactl...   \n",
      "8794    What are some useful classes to take in college?   \n",
      "\n",
      "                                         questions_body  \n",
      "16565  college engineer student software college-minor   \n",
      "16127                          officer officer officer   \n",
      "8794                                   classes college   \n"
     ]
    }
   ],
   "source": [
    "print(ques.sample(3))\n",
    "## Sweet! It works. Now we can apply some other tools to this cleaned text"
   ]
  },
  {
   "cell_type": "code",
   "execution_count": null,
   "metadata": {},
   "outputs": [],
   "source": []
  },
  {
   "cell_type": "code",
   "execution_count": null,
   "metadata": {},
   "outputs": [],
   "source": []
  },
  {
   "cell_type": "code",
   "execution_count": null,
   "metadata": {},
   "outputs": [],
   "source": []
  },
  {
   "cell_type": "code",
   "execution_count": null,
   "metadata": {},
   "outputs": [],
   "source": []
  }
 ],
 "metadata": {
  "kernelspec": {
   "display_name": "Python 3",
   "language": "python",
   "name": "python3"
  },
  "language_info": {
   "codemirror_mode": {
    "name": "ipython",
    "version": 3
   },
   "file_extension": ".py",
   "mimetype": "text/x-python",
   "name": "python",
   "nbconvert_exporter": "python",
   "pygments_lexer": "ipython3",
   "version": "3.7.3"
  }
 },
 "nbformat": 4,
 "nbformat_minor": 2
}

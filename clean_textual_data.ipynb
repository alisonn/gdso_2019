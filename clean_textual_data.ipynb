{
 "cells": [
  {
   "cell_type": "code",
   "execution_count": 1,
   "metadata": {},
   "outputs": [],
   "source": [
    "import pandas as pd\n",
    "import numpy as np\n",
    "import seaborn as sns\n",
    "import matplotlib as plt\n",
    "import re\n",
    "\n",
    "from sklearn.feature_extraction.text import CountVectorizer\n",
    "from sklearn.feature_extraction.text import TfidfVectorizer\n",
    "import nltk\n",
    "from nltk.corpus import stopwords \n",
    "from nltk.tokenize import RegexpTokenizer\n",
    "\n",
    "from html.parser import HTMLParser"
   ]
  },
  {
   "cell_type": "code",
   "execution_count": 2,
   "metadata": {},
   "outputs": [],
   "source": [
    "## data with the real text meat\n",
    "prof = pd.read_csv(\"../professionals.csv\")\n",
    "answ = pd.read_csv(\"../answers.csv\")\n",
    "stud = pd.read_csv(\"../students.csv\")\n",
    "ques = pd.read_csv(\"../questions.csv\")"
   ]
  },
  {
   "cell_type": "code",
   "execution_count": 3,
   "metadata": {},
   "outputs": [
    {
     "data": {
      "text/html": [
       "<div>\n",
       "<style scoped>\n",
       "    .dataframe tbody tr th:only-of-type {\n",
       "        vertical-align: middle;\n",
       "    }\n",
       "\n",
       "    .dataframe tbody tr th {\n",
       "        vertical-align: top;\n",
       "    }\n",
       "\n",
       "    .dataframe thead th {\n",
       "        text-align: right;\n",
       "    }\n",
       "</style>\n",
       "<table border=\"1\" class=\"dataframe\">\n",
       "  <thead>\n",
       "    <tr style=\"text-align: right;\">\n",
       "      <th></th>\n",
       "      <th>professionals_id</th>\n",
       "      <th>professionals_location</th>\n",
       "      <th>professionals_industry</th>\n",
       "      <th>professionals_headline</th>\n",
       "      <th>professionals_date_joined</th>\n",
       "    </tr>\n",
       "  </thead>\n",
       "  <tbody>\n",
       "    <tr>\n",
       "      <th>665</th>\n",
       "      <td>d3d09b7c216b465086d43c779d2087cd</td>\n",
       "      <td>Boston, Massachusetts</td>\n",
       "      <td>Marketing and Advertising</td>\n",
       "      <td>Account Manager</td>\n",
       "      <td>2013-12-05 14:57:34 UTC+0000</td>\n",
       "    </tr>\n",
       "    <tr>\n",
       "      <th>12006</th>\n",
       "      <td>545868bb34a3466d9acdc01a89907a90</td>\n",
       "      <td>Washington, Washington</td>\n",
       "      <td>Management Consulting</td>\n",
       "      <td>Management Consulting Analyst</td>\n",
       "      <td>2017-06-26 19:59:33 UTC+0000</td>\n",
       "    </tr>\n",
       "  </tbody>\n",
       "</table>\n",
       "</div>"
      ],
      "text/plain": [
       "                       professionals_id  professionals_location  \\\n",
       "665    d3d09b7c216b465086d43c779d2087cd   Boston, Massachusetts   \n",
       "12006  545868bb34a3466d9acdc01a89907a90  Washington, Washington   \n",
       "\n",
       "          professionals_industry          professionals_headline  \\\n",
       "665    Marketing and Advertising                Account Manager    \n",
       "12006      Management Consulting  Management Consulting Analyst    \n",
       "\n",
       "          professionals_date_joined  \n",
       "665    2013-12-05 14:57:34 UTC+0000  \n",
       "12006  2017-06-26 19:59:33 UTC+0000  "
      ]
     },
     "execution_count": 3,
     "metadata": {},
     "output_type": "execute_result"
    }
   ],
   "source": [
    "# Professional's headlines - clean them!!!\n",
    "def clean_names(headline): \n",
    "    if type(headline) == str:\n",
    "        return re.sub(r'at\\s.*$', '', headline)\n",
    "    return headline\n",
    "\n",
    "# Updated the city columns \n",
    "prof.professionals_headline = prof.professionals_headline.apply(clean_names)\n",
    "prof.sample(2)"
   ]
  },
  {
   "cell_type": "code",
   "execution_count": 4,
   "metadata": {},
   "outputs": [],
   "source": [
    "## Function to get rid of HTML tags from text\n",
    "class MLStripper(HTMLParser):\n",
    "    def __init__(self):\n",
    "        super().__init__()\n",
    "        self.reset()\n",
    "        self.fed = []\n",
    "    def handle_data(self, d):\n",
    "        self.fed.append(str(d))\n",
    "    def get_data(self):\n",
    "        return ''.join(self.fed)\n",
    "    \n",
    "def strip_tags(html):\n",
    "    s = MLStripper()\n",
    "    s.feed(html)\n",
    "    return s.get_data()"
   ]
  },
  {
   "cell_type": "code",
   "execution_count": 5,
   "metadata": {},
   "outputs": [
    {
     "name": "stdout",
     "output_type": "stream",
     "text": [
      "                           questions_id               questions_author_id  \\\n",
      "8843   c58917388bb449b3ae3a3e5d10a88a79  b9969e10475c4915961edbcd3ef3c68e   \n",
      "23652  3795aeef19214b8abf46f305837ef322  328ea047f8ed4ca8864a4b1c09272587   \n",
      "11431  ad24f99be877470d9003029569e8a58d  18007164ed2e4ec08ae910f53689cafe   \n",
      "\n",
      "               questions_date_added  \\\n",
      "8843   2017-05-30 20:29:04 UTC+0000   \n",
      "23652  2015-06-26 22:39:13 UTC+0000   \n",
      "11431  2017-09-01 16:10:40 UTC+0000   \n",
      "\n",
      "                                         questions_title  \\\n",
      "8843                   Are there majors for metaphysics?   \n",
      "23652  What jobs can I get from the basketball in NBA...   \n",
      "11431  What is the best school for future physical th...   \n",
      "\n",
      "                                          questions_body  \n",
      "8843   Interested in metaphysics #biology #physics #p...  \n",
      "23652  Because I love to play basketball. Almost no b...  \n",
      "11431  I am thinking about being a PTA and I want a s...  \n"
     ]
    }
   ],
   "source": [
    "# Clean up these bodies of text\n",
    "\n",
    "# Tag parts of speech and remove stop words\n",
    "# More interested in knowing which general area these questions are asking about so let's grab nouns\n",
    "stop_words = set(stopwords.words(\"english\"))\n",
    "def filterText(text):\n",
    "    # initialize stop words bank\n",
    "    stop_words = set(stopwords.words(\"english\"))\n",
    "    \n",
    "    # strip html! \n",
    "    text = strip_tags(str(text).lower())\n",
    "    text = (nltk.word_tokenize(text))\n",
    "    #print('Finished tokenizing body text')\n",
    "    \n",
    "    text = nltk.pos_tag(text)\n",
    "    #print('Finished taging parts of speech')\n",
    "    \n",
    "    res = \"\"\n",
    "    for i in text: \n",
    "        if (i[0] not in stop_words) and (i[1] == \"NN\" or i[1] == \"NNP\" or i[1] == \"NNS\" or i[1] == \"NNPS\"):\n",
    "            res += i[0] + \" \"\n",
    "    return res\n",
    "print(ques.sample(3))\n",
    "ques.questions_body = ques.questions_body.apply(filterText)\n"
   ]
  },
  {
   "cell_type": "code",
   "execution_count": 21,
   "metadata": {},
   "outputs": [],
   "source": [
    "# Let's do the same for question titles\n",
    "ques.questions_title = ques.questions_title.apply(filterText)\n"
   ]
  },
  {
   "cell_type": "code",
   "execution_count": 22,
   "metadata": {},
   "outputs": [
    {
     "name": "stdout",
     "output_type": "stream",
     "text": [
      "                           questions_id               questions_author_id  \\\n",
      "13     fecd4c7f68144042abca8672b6114a36  3acd97cf60da4b23950fb316644da839   \n",
      "19343  da257843f8594642892d0093f255125b  350cf806f9be45d48a5869c0702b45eb   \n",
      "\n",
      "               questions_date_added questions_title  \\\n",
      "13     2018-01-15 22:03:20 UTC+0000         lawyer    \n",
      "19343  2016-05-18 00:14:32 UTC+0000        college    \n",
      "\n",
      "                                   questions_body  \n",
      "13     process lawyer lsat law school job lawyer   \n",
      "19343         college fall cost question finance   \n"
     ]
    }
   ],
   "source": [
    "print(ques.sample(2))\n",
    "## Sweet! It works. Now we can apply some other tools to this cleaned text"
   ]
  },
  {
   "cell_type": "markdown",
   "metadata": {},
   "source": [
    "Let's merge these data sets together a la reformat_careervillage_data.ipynb"
   ]
  },
  {
   "cell_type": "code",
   "execution_count": 24,
   "metadata": {},
   "outputs": [],
   "source": [
    "prof_merged = pd.merge(prof, answ, left_on='professionals_id', right_on='answers_author_id', how='inner')\n",
    "keep = ['professionals_id', 'professionals_headline','professionals_industry', 'answers_question_id']\n",
    "prof_merged = prof_merged[keep]\n",
    "\n",
    "stud_merged = pd.merge(stud, ques, left_on='students_id', right_on='questions_author_id')\n",
    "keep2 = ['questions_id', 'questions_title', 'questions_body']\n",
    "stud_merged = stud_merged[keep2]\n",
    "\n",
    "final_merged = pd.merge(prof_merged, stud_merged, left_on='answers_question_id', right_on='questions_id')\n"
   ]
  },
  {
   "cell_type": "code",
   "execution_count": 27,
   "metadata": {
    "collapsed": true
   },
   "outputs": [
    {
     "data": {
      "text/html": [
       "<div>\n",
       "<style scoped>\n",
       "    .dataframe tbody tr th:only-of-type {\n",
       "        vertical-align: middle;\n",
       "    }\n",
       "\n",
       "    .dataframe tbody tr th {\n",
       "        vertical-align: top;\n",
       "    }\n",
       "\n",
       "    .dataframe thead th {\n",
       "        text-align: right;\n",
       "    }\n",
       "</style>\n",
       "<table border=\"1\" class=\"dataframe\">\n",
       "  <thead>\n",
       "    <tr style=\"text-align: right;\">\n",
       "      <th></th>\n",
       "      <th>professionals_id</th>\n",
       "      <th>professionals_headline</th>\n",
       "      <th>professionals_industry</th>\n",
       "      <th>answers_question_id</th>\n",
       "      <th>questions_id</th>\n",
       "      <th>questions_title</th>\n",
       "      <th>questions_body</th>\n",
       "    </tr>\n",
       "  </thead>\n",
       "  <tbody>\n",
       "    <tr>\n",
       "      <th>17937</th>\n",
       "      <td>ef2c0f7cacf348f1b083f5d5cd7803f9</td>\n",
       "      <td>Civil Engineer</td>\n",
       "      <td>Civil Engineering</td>\n",
       "      <td>29777d7e3fd344a1a9300eb0fa233cc0</td>\n",
       "      <td>29777d7e3fd344a1a9300eb0fa233cc0</td>\n",
       "      <td>engineering work</td>\n",
       "      <td>engineering work time civil-engineering</td>\n",
       "    </tr>\n",
       "    <tr>\n",
       "      <th>4863</th>\n",
       "      <td>c0f7489f842f4ebfa548af41402d9571</td>\n",
       "      <td>Farmer &amp; Food Advocate</td>\n",
       "      <td>Farming</td>\n",
       "      <td>db41de0055104c85997e541fb9917e61</td>\n",
       "      <td>db41de0055104c85997e541fb9917e61</td>\n",
       "      <td>college career</td>\n",
       "      <td>chemical engineering fall chemical engineer ty...</td>\n",
       "    </tr>\n",
       "    <tr>\n",
       "      <th>38681</th>\n",
       "      <td>81da0aca08c745058e67265aabb6d860</td>\n",
       "      <td>Sr. Specialist - Digital Assistant Program Man...</td>\n",
       "      <td>Telecommunications</td>\n",
       "      <td>9f48e738b0944c6993edf49414cd5946</td>\n",
       "      <td>9f48e738b0944c6993edf49414cd5946</td>\n",
       "      <td>children countries</td>\n",
       "      <td>lot documentaries children world bangladesh th...</td>\n",
       "    </tr>\n",
       "    <tr>\n",
       "      <th>20802</th>\n",
       "      <td>3bf31b002c3b4635a658835035b1d8ff</td>\n",
       "      <td>Talent Management and Strategic Recruiting</td>\n",
       "      <td>Human Resources</td>\n",
       "      <td>036130ae9d304cd5a6f475c2e83ecb11</td>\n",
       "      <td>036130ae9d304cd5a6f475c2e83ecb11</td>\n",
       "      <td>advice business scratch</td>\n",
       "      <td>optometrist practice day studies sciences busi...</td>\n",
       "    </tr>\n",
       "    <tr>\n",
       "      <th>12793</th>\n",
       "      <td>531aa7579154497382b2cdf76a44ecf8</td>\n",
       "      <td>Trainer/Career Coach</td>\n",
       "      <td>Professional Training</td>\n",
       "      <td>5a49d1772c1d489ba1aed7762c406218</td>\n",
       "      <td>5a49d1772c1d489ba1aed7762c406218</td>\n",
       "      <td>school summer job tech industry</td>\n",
       "      <td>summer job computer technology internships hum...</td>\n",
       "    </tr>\n",
       "  </tbody>\n",
       "</table>\n",
       "</div>"
      ],
      "text/plain": [
       "                       professionals_id  \\\n",
       "17937  ef2c0f7cacf348f1b083f5d5cd7803f9   \n",
       "4863   c0f7489f842f4ebfa548af41402d9571   \n",
       "38681  81da0aca08c745058e67265aabb6d860   \n",
       "20802  3bf31b002c3b4635a658835035b1d8ff   \n",
       "12793  531aa7579154497382b2cdf76a44ecf8   \n",
       "\n",
       "                                  professionals_headline  \\\n",
       "17937                                     Civil Engineer   \n",
       "4863                              Farmer & Food Advocate   \n",
       "38681  Sr. Specialist - Digital Assistant Program Man...   \n",
       "20802         Talent Management and Strategic Recruiting   \n",
       "12793                               Trainer/Career Coach   \n",
       "\n",
       "      professionals_industry               answers_question_id  \\\n",
       "17937      Civil Engineering  29777d7e3fd344a1a9300eb0fa233cc0   \n",
       "4863                 Farming  db41de0055104c85997e541fb9917e61   \n",
       "38681     Telecommunications  9f48e738b0944c6993edf49414cd5946   \n",
       "20802        Human Resources  036130ae9d304cd5a6f475c2e83ecb11   \n",
       "12793  Professional Training  5a49d1772c1d489ba1aed7762c406218   \n",
       "\n",
       "                           questions_id                   questions_title  \\\n",
       "17937  29777d7e3fd344a1a9300eb0fa233cc0                 engineering work    \n",
       "4863   db41de0055104c85997e541fb9917e61                   college career    \n",
       "38681  9f48e738b0944c6993edf49414cd5946               children countries    \n",
       "20802  036130ae9d304cd5a6f475c2e83ecb11          advice business scratch    \n",
       "12793  5a49d1772c1d489ba1aed7762c406218  school summer job tech industry    \n",
       "\n",
       "                                          questions_body  \n",
       "17937           engineering work time civil-engineering   \n",
       "4863   chemical engineering fall chemical engineer ty...  \n",
       "38681  lot documentaries children world bangladesh th...  \n",
       "20802  optometrist practice day studies sciences busi...  \n",
       "12793  summer job computer technology internships hum...  "
      ]
     },
     "execution_count": 27,
     "metadata": {},
     "output_type": "execute_result"
    }
   ],
   "source": [
    "final_merged.sample(5)\n",
    "# Some interesting professional headlines that I never heard about answering questions in fields that I think are disjoint? I "
   ]
  },
  {
   "cell_type": "markdown",
   "metadata": {},
   "source": [
    "Let's save this final data frame! "
   ]
  },
  {
   "cell_type": "code",
   "execution_count": 28,
   "metadata": {},
   "outputs": [],
   "source": [
    "final_merged.to_csv('final_merged_data.csv')"
   ]
  },
  {
   "cell_type": "code",
   "execution_count": null,
   "metadata": {},
   "outputs": [],
   "source": []
  }
 ],
 "metadata": {
  "kernelspec": {
   "display_name": "Python 3",
   "language": "python",
   "name": "python3"
  },
  "language_info": {
   "codemirror_mode": {
    "name": "ipython",
    "version": 3
   },
   "file_extension": ".py",
   "mimetype": "text/x-python",
   "name": "python",
   "nbconvert_exporter": "python",
   "pygments_lexer": "ipython3",
   "version": "3.7.3"
  }
 },
 "nbformat": 4,
 "nbformat_minor": 2
}

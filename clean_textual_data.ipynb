{
 "cells": [
  {
   "cell_type": "code",
   "execution_count": 1,
   "metadata": {},
   "outputs": [],
   "source": [
    "import pandas as pd\n",
    "import numpy as np\n",
    "import seaborn as sns\n",
    "import matplotlib as plt\n",
    "import re\n",
    "\n",
    "from sklearn.feature_extraction.text import CountVectorizer\n",
    "from sklearn.feature_extraction.text import TfidfVectorizer\n",
    "import nltk\n",
    "from nltk.corpus import stopwords \n",
    "from nltk.tokenize import RegexpTokenizer\n",
    "\n",
    "from html.parser import HTMLParser"
   ]
  },
  {
   "cell_type": "code",
   "execution_count": 2,
   "metadata": {},
   "outputs": [],
   "source": [
    "## data with the real text meat\n",
    "prof = pd.read_csv(\"../professionals.csv\")\n",
    "answ = pd.read_csv(\"../answers.csv\")\n",
    "stud = pd.read_csv(\"../students.csv\")\n",
    "ques = pd.read_csv(\"../questions.csv\")"
   ]
  },
  {
   "cell_type": "code",
   "execution_count": 3,
   "metadata": {},
   "outputs": [
    {
     "data": {
      "text/html": [
       "<div>\n",
       "<style scoped>\n",
       "    .dataframe tbody tr th:only-of-type {\n",
       "        vertical-align: middle;\n",
       "    }\n",
       "\n",
       "    .dataframe tbody tr th {\n",
       "        vertical-align: top;\n",
       "    }\n",
       "\n",
       "    .dataframe thead th {\n",
       "        text-align: right;\n",
       "    }\n",
       "</style>\n",
       "<table border=\"1\" class=\"dataframe\">\n",
       "  <thead>\n",
       "    <tr style=\"text-align: right;\">\n",
       "      <th></th>\n",
       "      <th>professionals_id</th>\n",
       "      <th>professionals_location</th>\n",
       "      <th>professionals_industry</th>\n",
       "      <th>professionals_headline</th>\n",
       "      <th>professionals_date_joined</th>\n",
       "    </tr>\n",
       "  </thead>\n",
       "  <tbody>\n",
       "    <tr>\n",
       "      <th>16472</th>\n",
       "      <td>84ec7c40c83f4204a73d24a10e9f23fa</td>\n",
       "      <td>Dallas/Fort Worth Area</td>\n",
       "      <td>Marketing and Advertising</td>\n",
       "      <td>National Tax Pursuit Team Coach, PwC</td>\n",
       "      <td>2018-02-23 16:44:02 UTC+0000</td>\n",
       "    </tr>\n",
       "    <tr>\n",
       "      <th>4816</th>\n",
       "      <td>53039ff902a147349062dd46473fc462</td>\n",
       "      <td>Houston, Texas</td>\n",
       "      <td>Information Technology and Services</td>\n",
       "      <td>Systems Engineer Manager</td>\n",
       "      <td>2016-03-21 19:52:30 UTC+0000</td>\n",
       "    </tr>\n",
       "  </tbody>\n",
       "</table>\n",
       "</div>"
      ],
      "text/plain": [
       "                       professionals_id  professionals_location  \\\n",
       "16472  84ec7c40c83f4204a73d24a10e9f23fa  Dallas/Fort Worth Area   \n",
       "4816   53039ff902a147349062dd46473fc462          Houston, Texas   \n",
       "\n",
       "                    professionals_industry  \\\n",
       "16472            Marketing and Advertising   \n",
       "4816   Information Technology and Services   \n",
       "\n",
       "                     professionals_headline     professionals_date_joined  \n",
       "16472  National Tax Pursuit Team Coach, PwC  2018-02-23 16:44:02 UTC+0000  \n",
       "4816              Systems Engineer Manager   2016-03-21 19:52:30 UTC+0000  "
      ]
     },
     "execution_count": 3,
     "metadata": {},
     "output_type": "execute_result"
    }
   ],
   "source": [
    "# Professional's headlines - clean them!!!\n",
    "def clean_names(headline): \n",
    "    if type(headline) == str:\n",
    "        return re.sub(r'at\\s.*$', '', headline)\n",
    "    return headline\n",
    "\n",
    "# Updated the city columns \n",
    "prof.professionals_headline = prof.professionals_headline.apply(clean_names)\n",
    "prof.sample(2)"
   ]
  },
  {
   "cell_type": "code",
   "execution_count": 4,
   "metadata": {},
   "outputs": [],
   "source": [
    "## Function to get rid of HTML tags from text\n",
    "class MLStripper(HTMLParser):\n",
    "    def __init__(self):\n",
    "        super().__init__()\n",
    "        self.reset()\n",
    "        self.fed = []\n",
    "    def handle_data(self, d):\n",
    "        self.fed.append(str(d))\n",
    "    def get_data(self):\n",
    "        return ''.join(self.fed)\n",
    "    \n",
    "def strip_tags(html):\n",
    "    s = MLStripper()\n",
    "    s.feed(html)\n",
    "    return s.get_data()"
   ]
  },
  {
   "cell_type": "code",
   "execution_count": 5,
   "metadata": {},
   "outputs": [
    {
     "name": "stdout",
     "output_type": "stream",
     "text": [
      "                           questions_id               questions_author_id  \\\n",
      "21343  f48bd954513c493585918206a3404671  2fc1a5fb58bd4591a146b66068bead45   \n",
      "12772  e363d394cf3e4021890c041c5f204c44  79f8d41fe9c349b3b8e12349af2421a3   \n",
      "13889  d826126a211a458594eb17261cde905d  fa3e9b3e183848799c59cae73e444204   \n",
      "\n",
      "               questions_date_added  \\\n",
      "21343  2018-01-18 06:49:41 UTC+0000   \n",
      "12772  2016-07-19 13:35:08 UTC+0000   \n",
      "13889  2018-04-18 16:13:10 UTC+0000   \n",
      "\n",
      "                                         questions_title  \\\n",
      "21343  How can a young entrepreneur be successful in ...   \n",
      "12772            How do you write a decent cover letter?   \n",
      "13889             How do I begin to network with people?   \n",
      "\n",
      "                                          questions_body  \n",
      "21343  My whole life I have always loved food. Not on...  \n",
      "12772  I need to build my resume and make it complete...  \n",
      "13889  I want to have people that I can branch out wi...  \n"
     ]
    }
   ],
   "source": [
    "# Clean up these bodies of text\n",
    "\n",
    "# Tag parts of speech and remove stop words\n",
    "# More interested in knowing which general area these questions are asking about so let's grab nouns\n",
    "stop_words = set(stopwords.words(\"english\"))\n",
    "def filterText(text):\n",
    "    # initialize stop words bank\n",
    "    stop_words = set(stopwords.words(\"english\"))\n",
    "    \n",
    "    # strip html! \n",
    "    text = strip_tags(str(text).lower())\n",
    "    text = (nltk.word_tokenize(text))\n",
    "    #print('Finished tokenizing body text')\n",
    "    \n",
    "    text = nltk.pos_tag(text)\n",
    "    #print('Finished taging parts of speech')\n",
    "    \n",
    "    res = \"\"\n",
    "    for i in text: \n",
    "        if (i[0] not in stop_words) and (i[1] == \"NN\" or i[1] == \"NNP\" or i[1] == \"NNS\" or i[1] == \"NNPS\"):\n",
    "            res += i[0] + \" \"\n",
    "    return res\n",
    "print(ques.sample(3))\n",
    "ques.questions_body = ques.questions_body.apply(filterText)\n"
   ]
  },
  {
   "cell_type": "code",
   "execution_count": 6,
   "metadata": {},
   "outputs": [],
   "source": [
    "# Let's do the same for question titles\n",
    "ques.questions_title = ques.questions_title.apply(filterText)\n"
   ]
  },
  {
   "cell_type": "code",
   "execution_count": 7,
   "metadata": {},
   "outputs": [
    {
     "name": "stdout",
     "output_type": "stream",
     "text": [
      "                           questions_id               questions_author_id  \\\n",
      "12403  082412ea67844ebfa8baa357c39a4b6f  69e7e41d827a40aa880cb8f8fefc019d   \n",
      "15755  cfcd952709b34f3f80811ca5e5886dbe  55fa00fbea4e47ebb9791e2ec7d0cfec   \n",
      "\n",
      "               questions_date_added  \\\n",
      "12403  2018-03-19 12:10:27 UTC+0000   \n",
      "15755  2015-03-07 22:11:40 UTC+0000   \n",
      "\n",
      "                                         questions_title  \\\n",
      "12403                                   jobs humanities    \n",
      "15755  certificates pursue title look computer suppor...   \n",
      "\n",
      "                                          questions_body  \n",
      "12403  humanities resources linguistics anthropology ...  \n",
      "15755  computer engineering decision people computer ...  \n"
     ]
    }
   ],
   "source": [
    "print(ques.sample(2))\n",
    "## Sweet! It works. Now we can apply some other tools to this cleaned text"
   ]
  },
  {
   "cell_type": "markdown",
   "metadata": {},
   "source": [
    "Let's merge these data sets together a la reformat_careervillage_data.ipynb"
   ]
  },
  {
   "cell_type": "code",
   "execution_count": 8,
   "metadata": {},
   "outputs": [],
   "source": [
    "prof_merged = pd.merge(prof, answ, left_on='professionals_id', right_on='answers_author_id', how='inner')\n",
    "keep = ['professionals_id', 'professionals_headline','professionals_industry', 'answers_question_id']\n",
    "prof_merged = prof_merged[keep]\n",
    "\n",
    "stud_merged = pd.merge(stud, ques, left_on='students_id', right_on='questions_author_id')\n",
    "keep2 = ['questions_id', 'questions_title', 'questions_body']\n",
    "stud_merged = stud_merged[keep2]\n",
    "\n",
    "final_merged = pd.merge(prof_merged, stud_merged, left_on='answers_question_id', right_on='questions_id')\n"
   ]
  },
  {
   "cell_type": "code",
   "execution_count": 12,
   "metadata": {},
   "outputs": [
    {
     "data": {
      "text/html": [
       "<div>\n",
       "<style scoped>\n",
       "    .dataframe tbody tr th:only-of-type {\n",
       "        vertical-align: middle;\n",
       "    }\n",
       "\n",
       "    .dataframe tbody tr th {\n",
       "        vertical-align: top;\n",
       "    }\n",
       "\n",
       "    .dataframe thead th {\n",
       "        text-align: right;\n",
       "    }\n",
       "</style>\n",
       "<table border=\"1\" class=\"dataframe\">\n",
       "  <thead>\n",
       "    <tr style=\"text-align: right;\">\n",
       "      <th></th>\n",
       "      <th>professionals_id</th>\n",
       "      <th>professionals_headline</th>\n",
       "      <th>professionals_industry</th>\n",
       "      <th>answers_question_id</th>\n",
       "      <th>questions_id</th>\n",
       "      <th>questions_title</th>\n",
       "      <th>questions_body</th>\n",
       "    </tr>\n",
       "  </thead>\n",
       "  <tbody>\n",
       "    <tr>\n",
       "      <th>6741</th>\n",
       "      <td>bc46e3699d92477ba8c7aa723e54a151</td>\n",
       "      <td>Principal Artist</td>\n",
       "      <td>Entertainment</td>\n",
       "      <td>7dfef2e977204580aac6aa7ceb2113b9</td>\n",
       "      <td>7dfef2e977204580aac6aa7ceb2113b9</td>\n",
       "      <td>fields job</td>\n",
       "      <td>people jobs everyone longs weekends profession...</td>\n",
       "    </tr>\n",
       "    <tr>\n",
       "      <th>45999</th>\n",
       "      <td>1833e8f9b5e34a84ad9998508712854b</td>\n",
       "      <td>NYU Graduate</td>\n",
       "      <td>Education</td>\n",
       "      <td>476bc5ed3a7640368c149a7093bfa10a</td>\n",
       "      <td>476bc5ed3a7640368c149a7093bfa10a</td>\n",
       "      <td>kids parents issues</td>\n",
       "      <td>masters program ms counseling health concern s...</td>\n",
       "    </tr>\n",
       "    <tr>\n",
       "      <th>4835</th>\n",
       "      <td>f635e282b31045819ac998a120fae0e1</td>\n",
       "      <td>Software Engineering Intern</td>\n",
       "      <td>Internet</td>\n",
       "      <td>fd51fc00cdb24cc882889fb6a58dd8d0</td>\n",
       "      <td>fd51fc00cdb24cc882889fb6a58dd8d0</td>\n",
       "      <td>piece career advice</td>\n",
       "      <td>question situation advie career advice share s...</td>\n",
       "    </tr>\n",
       "    <tr>\n",
       "      <th>38662</th>\n",
       "      <td>ff2723d4ec9c4a96b4a2df2bbca3db98</td>\n",
       "      <td>Retired Aerospace Engineer and Rocket Scientist</td>\n",
       "      <td>Defense and Space</td>\n",
       "      <td>44995e27fcf546da8eedf5fac6cf8f16</td>\n",
       "      <td>44995e27fcf546da8eedf5fac6cf8f16</td>\n",
       "      <td>degree</td>\n",
       "      <td>advantages disadvantages weather career advanc...</td>\n",
       "    </tr>\n",
       "    <tr>\n",
       "      <th>23907</th>\n",
       "      <td>403002609afa44e7ba625ed914593ac4</td>\n",
       "      <td>Airline, Cargo &amp; Logistics Engineering</td>\n",
       "      <td>Airlines/Aviation</td>\n",
       "      <td>6c45af55a3d14b76b15107ce0580bdc8</td>\n",
       "      <td>6c45af55a3d14b76b15107ce0580bdc8</td>\n",
       "      <td>air traffic street traffic</td>\n",
       "      <td>question careervillage administrator behalf st...</td>\n",
       "    </tr>\n",
       "  </tbody>\n",
       "</table>\n",
       "</div>"
      ],
      "text/plain": [
       "                       professionals_id  \\\n",
       "6741   bc46e3699d92477ba8c7aa723e54a151   \n",
       "45999  1833e8f9b5e34a84ad9998508712854b   \n",
       "4835   f635e282b31045819ac998a120fae0e1   \n",
       "38662  ff2723d4ec9c4a96b4a2df2bbca3db98   \n",
       "23907  403002609afa44e7ba625ed914593ac4   \n",
       "\n",
       "                                professionals_headline professionals_industry  \\\n",
       "6741                                 Principal Artist           Entertainment   \n",
       "45999                                     NYU Graduate              Education   \n",
       "4835                      Software Engineering Intern                Internet   \n",
       "38662  Retired Aerospace Engineer and Rocket Scientist      Defense and Space   \n",
       "23907           Airline, Cargo & Logistics Engineering      Airlines/Aviation   \n",
       "\n",
       "                    answers_question_id                      questions_id  \\\n",
       "6741   7dfef2e977204580aac6aa7ceb2113b9  7dfef2e977204580aac6aa7ceb2113b9   \n",
       "45999  476bc5ed3a7640368c149a7093bfa10a  476bc5ed3a7640368c149a7093bfa10a   \n",
       "4835   fd51fc00cdb24cc882889fb6a58dd8d0  fd51fc00cdb24cc882889fb6a58dd8d0   \n",
       "38662  44995e27fcf546da8eedf5fac6cf8f16  44995e27fcf546da8eedf5fac6cf8f16   \n",
       "23907  6c45af55a3d14b76b15107ce0580bdc8  6c45af55a3d14b76b15107ce0580bdc8   \n",
       "\n",
       "                   questions_title  \\\n",
       "6741                   fields job    \n",
       "45999         kids parents issues    \n",
       "4835          piece career advice    \n",
       "38662                      degree    \n",
       "23907  air traffic street traffic    \n",
       "\n",
       "                                          questions_body  \n",
       "6741   people jobs everyone longs weekends profession...  \n",
       "45999  masters program ms counseling health concern s...  \n",
       "4835   question situation advie career advice share s...  \n",
       "38662  advantages disadvantages weather career advanc...  \n",
       "23907  question careervillage administrator behalf st...  "
      ]
     },
     "execution_count": 12,
     "metadata": {},
     "output_type": "execute_result"
    }
   ],
   "source": [
    "final = final_merged.dropna(axis = 0)\n",
    "final_merged.sample(5)\n",
    "# Some interesting professional headlines that I never heard about answering questions in fields that I think are disjoint? I "
   ]
  },
  {
   "cell_type": "markdown",
   "metadata": {},
   "source": [
    "Let's save this final data frame! "
   ]
  },
  {
   "cell_type": "code",
   "execution_count": 13,
   "metadata": {},
   "outputs": [],
   "source": [
    "final_merged.to_csv('final_merged_data.csv', index = False)"
   ]
  },
  {
   "cell_type": "code",
   "execution_count": null,
   "metadata": {},
   "outputs": [],
   "source": []
  },
  {
   "cell_type": "code",
   "execution_count": null,
   "metadata": {},
   "outputs": [],
   "source": []
  }
 ],
 "metadata": {
  "kernelspec": {
   "display_name": "Python 3",
   "language": "python",
   "name": "python3"
  },
  "language_info": {
   "codemirror_mode": {
    "name": "ipython",
    "version": 3
   },
   "file_extension": ".py",
   "mimetype": "text/x-python",
   "name": "python",
   "nbconvert_exporter": "python",
   "pygments_lexer": "ipython3",
   "version": "3.7.3"
  }
 },
 "nbformat": 4,
 "nbformat_minor": 2
}
